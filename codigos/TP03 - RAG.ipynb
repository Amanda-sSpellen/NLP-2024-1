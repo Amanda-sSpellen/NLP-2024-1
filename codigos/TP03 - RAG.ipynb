{
  "nbformat": 4,
  "nbformat_minor": 0,
  "metadata": {
    "colab": {
      "provenance": [],
      "collapsed_sections": [
        "PjGxfOzabiVE",
        "ruilrxP_Qt7n",
        "u6oj4_a8cbTg"
      ]
    },
    "kernelspec": {
      "name": "python3",
      "display_name": "Python 3"
    },
    "language_info": {
      "name": "python"
    }
  },
  "cells": [
    {
      "cell_type": "markdown",
      "source": [
        "## Instalação das bibliotecas"
      ],
      "metadata": {
        "id": "PjGxfOzabiVE"
      }
    },
    {
      "cell_type": "code",
      "execution_count": 1,
      "metadata": {
        "id": "BjC0jwGdWGM4"
      },
      "outputs": [],
      "source": [
        "# !pip install sentence_transformers pypdf faiss-gpu\n",
        "# !pip install langchain langchain-openai\n",
        "%pip install --upgrade --quiet langchain langchain-community langchain-huggingface langchain-openai # text-generation transformers langchainhub sentencepiece jinja2\n",
        "%pip install --upgrade --quiet sentence_transformers pypdf faiss-gpu\n",
        "\n",
        "from langchain_community.document_loaders import PyPDFLoader\n",
        "from langchain.text_splitter import RecursiveCharacterTextSplitter\n",
        "from langchain.embeddings import HuggingFaceEmbeddings\n",
        "from langchain.vectorstores import FAISS\n",
        "from langchain.chat_models import ChatOpenAI\n",
        "from langchain.chains.combine_documents import create_stuff_documents_chain\n",
        "from langchain_core.prompts import ChatPromptTemplate\n",
        "from langchain.chains import create_retrieval_chain\n",
        "\n",
        "#%pip install --upgrade --quiet bitsandbytes accelerate\n",
        "\n",
        "# Importação de bibliotecas\n",
        "import os\n",
        "import json\n",
        "import zipfile\n",
        "import re\n",
        "import random\n",
        "from google.colab import files\n",
        "\n",
        "from langchain_huggingface import HuggingFaceEndpoint\n",
        "from langchain_community.document_loaders import PyPDFLoader\n",
        "from langchain.prompts import PromptTemplate"
      ]
    },
    {
      "cell_type": "markdown",
      "source": [
        "## Funções auxiliares"
      ],
      "metadata": {
        "id": "ruilrxP_Qt7n"
      }
    },
    {
      "cell_type": "code",
      "source": [
        "# Function to perform some generic operation on a file\n",
        "def process_file(file_path, data):\n",
        "    print(f\"Processing {file_path}\")\n",
        "    loader = PyPDFLoader(file_path)\n",
        "    pages = loader.load()\n",
        "    category = os.path.basename(file_path).split(\".pdf\")[0]\n",
        "    data[category] = pages\n",
        "\n",
        "def extract_zip(zip_file_path, extract_dir):\n",
        "    # Unzip the file\n",
        "    with zipfile.ZipFile(zip_file_path, 'r') as zip_ref:\n",
        "        zip_ref.extractall(extract_dir)\n",
        "\n",
        "    dataset = {}\n",
        "    folder_path = extract_dir + \"/\" + os.listdir(extract_dir)[0]\n",
        "    files = sorted(os.listdir(folder_path))\n",
        "\n",
        "    # Iterate through the files in the extracted directory\n",
        "    for pdf in files:\n",
        "        file_path = os.path.join(folder_path, pdf)\n",
        "        process_file(file_path, dataset)\n",
        "\n",
        "    return dataset"
      ],
      "metadata": {
        "id": "Ch0VlYY4ghDf"
      },
      "execution_count": 2,
      "outputs": []
    },
    {
      "cell_type": "markdown",
      "source": [
        "## Carrega modelo de embeddings e tinyllama"
      ],
      "metadata": {
        "id": "cu7B7-DWSF59"
      }
    },
    {
      "cell_type": "code",
      "source": [
        "# Load embedding model\n",
        "embeddings = HuggingFaceEmbeddings(model_name=\"BAAI/bge-small-en-v1.5\",\n",
        "encode_kwargs={\"normalize_embeddings\": True})"
      ],
      "metadata": {
        "colab": {
          "base_uri": "https://localhost:8080/"
        },
        "id": "ZYYVA-mzSQo-",
        "outputId": "cef39a3e-0d2e-4c58-b6fb-ec3833c58223"
      },
      "execution_count": 3,
      "outputs": [
        {
          "output_type": "stream",
          "name": "stderr",
          "text": [
            "/usr/local/lib/python3.10/dist-packages/langchain_core/_api/deprecation.py:139: LangChainDeprecationWarning: The class `HuggingFaceEmbeddings` was deprecated in LangChain 0.2.2 and will be removed in 0.3.0. An updated version of the class exists in the langchain-huggingface package and should be used instead. To use it run `pip install -U langchain-huggingface` and import as `from langchain_huggingface import HuggingFaceEmbeddings`.\n",
            "  warn_deprecated(\n",
            "/usr/local/lib/python3.10/dist-packages/sentence_transformers/cross_encoder/CrossEncoder.py:11: TqdmExperimentalWarning: Using `tqdm.autonotebook.tqdm` in notebook mode. Use `tqdm.tqdm` instead to force console mode (e.g. in jupyter console)\n",
            "  from tqdm.autonotebook import tqdm, trange\n"
          ]
        }
      ]
    },
    {
      "cell_type": "code",
      "source": [
        "model_tiny_name = \"TinyLlama/TinyLlama-1.1B-Chat-v1.0\"\n",
        "\n",
        "baseline_model = HuggingFaceEndpoint(\n",
        "    repo_id=model_tiny_name,\n",
        "    task=\"text-generation\",\n",
        "    max_new_tokens=512,\n",
        "    do_sample=False,\n",
        "    repetition_penalty=1.15,\n",
        ")"
      ],
      "metadata": {
        "id": "mWvJqRzxS84U"
      },
      "execution_count": 4,
      "outputs": []
    },
    {
      "cell_type": "markdown",
      "source": [
        "## Criar o RAG através do arquivo de dados\n",
        "Caso não tenha o arquivo de RAG pronto (.db), podemos cria-lo usando o arquivo de dados da lesgislação.\n",
        "\n",
        "**PARA USAR A SEGUINTE CÉLULA, DEVE-SE TER O ARQUIVO: \"lesgislação_dataset.zip\" NO DIRETÓRIO \"/content\" DO COLAB.**\n"
      ],
      "metadata": {
        "id": "5TMQP_rHWb9l"
      }
    },
    {
      "cell_type": "code",
      "source": [
        "# Retira retira dataset do arquivo zip\n",
        "zip_file_path = '/content/legislacao_dataset.zip'\n",
        "extract_dir = '/content/data'\n",
        "\n",
        "dataset = extract_zip(zip_file_path, extract_dir)\n",
        "\n",
        "# Carrega o conteudo do database\n",
        "pdfs = os.listdir('/content/data/lesgilacao_dataset')\n",
        "\n",
        "documents = []\n",
        "for pdf in pdfs:\n",
        "    print(pdf)\n",
        "    loader = PyPDFLoader('/content/data/lesgilacao_dataset/'+pdf)\n",
        "    documents.extend(loader.load())\n",
        "\n",
        "# Divide em chunks e gera os embeddings\n",
        "text = RecursiveCharacterTextSplitter(chunk_size = 1000).split_documents(documents)\n",
        "\n",
        "# Faz a indexação e cria o arquivo do RAG\n",
        "# Create a vectorstore\n",
        "vectorstore = FAISS.from_documents(text, embeddings)\n",
        "# Save the documents and embeddings\n",
        "vectorstore.save_local(\"vectorstore_1000_chunks.db\")\n",
        "# Create retriever\n",
        "retriever = vectorstore.as_retriever()"
      ],
      "metadata": {
        "collapsed": true,
        "id": "fkpjTqaCWVjZ"
      },
      "execution_count": null,
      "outputs": []
    },
    {
      "cell_type": "code",
      "source": [
        "def criar_arquivo_zip(pasta_origem, nome_arquivo_zip):\n",
        "    with zipfile.ZipFile(nome_arquivo_zip, 'w', zipfile.ZIP_DEFLATED) as zipf:\n",
        "        for raiz, dirs, arquivos in os.walk(pasta_origem):\n",
        "            for arquivo in arquivos:\n",
        "                caminho_completo = os.path.join(raiz, arquivo)\n",
        "                zipf.write(caminho_completo, os.path.relpath(caminho_completo, pasta_origem))\n",
        "\n",
        "pasta_origem = '/content/vectorstore_1000_chunks.db'\n",
        "nome_arquivo_zip = 'vectorstore_1000_chunks.db.zip'\n",
        "\n",
        "criar_arquivo_zip(pasta_origem, nome_arquivo_zip)\n"
      ],
      "metadata": {
        "id": "Sm_KiTPnslLh"
      },
      "execution_count": null,
      "outputs": []
    },
    {
      "cell_type": "markdown",
      "source": [
        "## Acessar RAG através do database vectorstore\n",
        "\n",
        "Caso já possua o arquivo de RAG pronto, podemos carrega-lo.\n",
        "\n",
        "**PARA USAR A SEGUINTE CÉLULA DEVE-SE TER O ARQUIVO \"vectorstore_1000_chunks.db.zip\"NO DIRETÓRIO \"/content\" DO COLAB.**"
      ],
      "metadata": {
        "id": "w7fre9gsUHmV"
      }
    },
    {
      "cell_type": "code",
      "source": [
        "# Extrai o database\n",
        "zip_file_path = '/content/vectorstore_1000_chunks.db.zip'\n",
        "extract_dir = '/content/vectorstore_1000_chunks.db'\n",
        "\n",
        "with zipfile.ZipFile(zip_file_path, 'r') as zip_ref:\n",
        "    zip_ref.extractall(extract_dir)\n",
        "\n",
        "# carrega o database\n",
        "vectorstore = FAISS.load_local(\"vectorstore_1000_chunks.db\", embeddings, allow_dangerous_deserialization=True)\n",
        "retriever = vectorstore.as_retriever()"
      ],
      "metadata": {
        "collapsed": true,
        "id": "pRDdF2WaiTQP"
      },
      "execution_count": 5,
      "outputs": []
    },
    {
      "cell_type": "markdown",
      "source": [
        "## Chain com RAG"
      ],
      "metadata": {
        "id": "hUFGBWCWW3J8"
      }
    },
    {
      "cell_type": "code",
      "source": [
        "# Define prompt template\n",
        "template = \"\"\"\n",
        "Você é um assistente para tarefas de perguntas e respostas.\n",
        "Use o contexto abaixo como fonte exclusiva para responder a pergunta que deve ser respondida:\n",
        "\n",
        "<cotext>\n",
        "{context}\n",
        "</context>\n",
        "\n",
        "Pergunta que deve ser respondida: {input}\n",
        "\n",
        "Resposta esperada:\n",
        "\"\"\"\n",
        "\n",
        "# Create a prompt template\n",
        "prompt = ChatPromptTemplate.from_template(template)\n",
        "\n",
        "# Create a chain\n",
        "doc_chain = create_stuff_documents_chain(baseline_model, prompt)\n",
        "chain = create_retrieval_chain(retriever, doc_chain)"
      ],
      "metadata": {
        "id": "D0VuyUbtW23N"
      },
      "execution_count": 24,
      "outputs": []
    },
    {
      "cell_type": "markdown",
      "source": [
        "## Testes e avaliação\n",
        "\n",
        "Para fazer os testes usando o RAG, contruímos uma série de perguntas baseadas em artigos selecionados da base de dados.\n",
        "\n",
        "- Primeiro escolhemos 5 assuntos (carteira estudantil, Programa de Educação Tutorial, Estatuto da ufam, Educação à distância, curso de férias).\n",
        "- Depois elaboramos perguntas com base em regulamentações, as respostas corretas devem ser interpretadas como o conceito dessas regulamentações."
      ],
      "metadata": {
        "id": "sZHkU2IaW8zL"
      }
    },
    {
      "cell_type": "markdown",
      "source": [
        "#### Perguntas e respostas esperadas:"
      ],
      "metadata": {
        "id": "u6oj4_a8cbTg"
      }
    },
    {
      "cell_type": "markdown",
      "source": [
        "```\n",
        "Assunto: carteira estudantil, artigo 1\n",
        "Pergunta: Em que eventos os alunos podem entrar com meia entrada usando a carteira estudantil?\n",
        "Resposta:\n",
        "1o** É assegurado aos estudantes o acesso a salas de cinema, cineclubes, teatros, espetáculos\n",
        "musicais e circenses e eventos educativos, esportivos, de lazer e de entretenimento\n",
        "\n",
        "\n",
        "Assunto : Programa de Educação Tutorial\n",
        "Pergunta: Qual a definição do PET? também conhecida por Programa de Educação Tutorial\n",
        "Resposta:\n",
        "**Art. 2o** O PET constitui-se em programa de educação tutorial desenvolvido em grupos organizados a\n",
        "partir de cursos de graduação das instituições de ensino superior do País, orientados pelo princípio da\n",
        "indissociabilidade entre ensino, pesquisa e extensão, com os seguintes objetivos:\n",
        "I — Desenvolver atividades acadêmicas em padrões de qualidade de excelência, mediante grupos de\n",
        "aprendizagem tutorial de natureza coletiva e interdisciplinar;\n",
        "II — Contribuir para a elevação da qualidade da formação acadêmica dos alunos de graduação;\n",
        "III — Estimular a formação de profissionais e docentes de elevada qualificação técnica, científica,\n",
        "tecnológica e acadêmica;\n",
        "IV — Formular novas estratégias de desenvolvimento e modernização do ensino superior no país;\n",
        "V — Estimular o espírito crítico, bem como a atuação profissional pautada pela cidadania e pela função\n",
        "social da educação superior.\n",
        "\n",
        "\n",
        "\n",
        "Assunto: Estatuto da ufam\n",
        "Pergunta: Quais são modalidades que a universidade pode ministrar?\n",
        "Resposta:\n",
        "I — sequenciais, por campo de saber, de diferentes níveis de abrangência, abertos a candidatos que\n",
        "atendam aos requisitos estabelecidos no Regimento Geral;\n",
        "II — de graduação, abertos a candidatos que tenham concluído o ensino médio ou equivalente e tenham\n",
        "sido classificados em processo seletivo;\n",
        "III — de pós-graduação, compreendendo programas de mestrado e doutorado, cursos de especialização,\n",
        "aperfeiçoamento e outros, abertos a candidatos diplomados em cursos de graduação e que atendam às\n",
        "exigências do Regimento Geral e normas complementares;\n",
        "IV — de extensão, abertos a candidatos que atendam aos requisitos estabelecidos pela Universidade.\n",
        "\n",
        "\n",
        "Assunto: Educação à distância\n",
        "Pergunta: Com relação a educação a distância, os cursos a distância podem aceitar transferência de cursos presenciais?\n",
        "Resposta:\n",
        "**Art. 4o** Os cursos a distância poderão aceitar transferência e aproveitar créditos obtidos pelos alunos\n",
        "em cursos presenciais, da mesma forma que as certificações totais ou parciais obtidas em cursos a\n",
        "distância poderão ser aceitas em cursos presenciais.\n",
        "\n",
        "\n",
        "Assunto: curso de férias\n",
        "Pergunta: Quantos cursos no máximo um aluno pode cursar mas férias?\n",
        "Resposta:\n",
        "**Art. 4o** O aluno poderá cursar, no máximo, 2 (duas) disciplinas em período especial, de\n",
        "forma consecutiva, respeitados os pré-requisitos.\n",
        "I — Ao cursar 2 (duas) disciplinas, estas não deverão ter mais que 80% da carga horária\n",
        "cursada concomitantemente e não poderá haver dependência de pré-requisitos entre elas.\n",
        "II — Não será permitida a matrícula do aluno durante ou após a realização da disciplina em\n",
        "período especial, conforme resolução n° 026/2007-CONSKPE.\n",
        "\n",
        "```\n",
        "\n"
      ],
      "metadata": {
        "id": "M-Za1UHpchag"
      }
    },
    {
      "cell_type": "markdown",
      "source": [
        "### Execução das perguntas"
      ],
      "metadata": {
        "id": "DDx3OFXDcooT"
      }
    },
    {
      "cell_type": "code",
      "source": [
        "teste1 = chain.invoke({\"input\": \"Em que eventos os alunos podem entrar com meia entrada usando a carteira estudantil?\"})\n",
        "teste2 = chain.invoke({\"input\": \"Qual a definição do PET? também conhecida por Programa de Educação Tutorial\"})\n",
        "teste3 = chain.invoke({\"input\": \"Quais são modalidades que a universidade pode ministrar?\"})\n",
        "teste4 = chain.invoke({\"input\": \"Com relação a educação a distância, os cursos a distância podem aceitar transferência de cursos presenciais?\"})\n",
        "teste5 = chain.invoke({\"input\": \"Quantos cursos no máximo um aluno pode cursar mas férias?\"})"
      ],
      "metadata": {
        "id": "gG0zW5X5W9xZ"
      },
      "execution_count": 26,
      "outputs": []
    },
    {
      "cell_type": "code",
      "source": [
        "resp1 = '''1o** É assegurado aos estudantes o acesso a salas de cinema, cineclubes, teatros, espetáculos\n",
        "musicais e circenses e eventos educativos, esportivos, de lazer e de entretenimento'''\n",
        "\n",
        "resp2 = '''**Art. 2o** O PET constitui-se em programa de educação tutorial desenvolvido em grupos organizados a\n",
        "partir de cursos de graduação das instituições de ensino superior do País, orientados pelo princípio da\n",
        "indissociabilidade entre ensino, pesquisa e extensão, com os seguintes objetivos:\n",
        "I — Desenvolver atividades acadêmicas em padrões de qualidade de excelência, mediante grupos de\n",
        "aprendizagem tutorial de natureza coletiva e interdisciplinar;\n",
        "II — Contribuir para a elevação da qualidade da formação acadêmica dos alunos de graduação;\n",
        "III — Estimular a formação de profissionais e docentes de elevada qualificação técnica, científica,\n",
        "tecnológica e acadêmica;\n",
        "IV — Formular novas estratégias de desenvolvimento e modernização do ensino superior no país;\n",
        "V — Estimular o espírito crítico, bem como a atuação profissional pautada pela cidadania e pela função\n",
        "social da educação superior.'''\n",
        "\n",
        "resp3 = '''I — sequenciais, por campo de saber, de diferentes níveis de abrangência, abertos a candidatos que\n",
        "atendam aos requisitos estabelecidos no Regimento Geral;\n",
        "II — de graduação, abertos a candidatos que tenham concluído o ensino médio ou equivalente e tenham\n",
        "sido classificados em processo seletivo;\n",
        "III — de pós-graduação, compreendendo programas de mestrado e doutorado, cursos de especialização,\n",
        "aperfeiçoamento e outros, abertos a candidatos diplomados em cursos de graduação e que atendam às\n",
        "exigências do Regimento Geral e normas complementares;\n",
        "IV — de extensão, abertos a candidatos que atendam aos requisitos estabelecidos pela Universidade.'''\n",
        "\n",
        "resp4 = '''**Art. 4o** Os cursos a distância poderão aceitar transferência e aproveitar créditos obtidos pelos alunos\n",
        "em cursos presenciais, da mesma forma que as certificações totais ou parciais obtidas em cursos a\n",
        "distância poderão ser aceitas em cursos presenciais.'''\n",
        "\n",
        "resp5 = '''**Art. 4o** O aluno poderá cursar, no máximo, 2 (duas) disciplinas em período especial, de\n",
        "forma consecutiva, respeitados os pré-requisitos.\n",
        "I — Ao cursar 2 (duas) disciplinas, estas não deverão ter mais que 80% da carga horária\n",
        "cursada concomitantemente e não poderá haver dependência de pré-requisitos entre elas.\n",
        "II — Não será permitida a matrícula do aluno durante ou após a realização da disciplina em\n",
        "período especial, conforme resolução n° 026/2007-CONSKPE.'''"
      ],
      "metadata": {
        "id": "bIxECvZkgY6E"
      },
      "execution_count": 17,
      "outputs": []
    },
    {
      "cell_type": "code",
      "source": [
        "def testa(test, resp):\n",
        "    print(f'''Pergunta: {test['input']}\\n\\nResposta esperada: {resp}\\n\\nResposta do modelo: {test['answer']}\\n\\n\\nContexto: {test['context']}''')"
      ],
      "metadata": {
        "id": "W9mytMTNgB79"
      },
      "execution_count": 18,
      "outputs": []
    },
    {
      "cell_type": "code",
      "source": [
        "testa(teste1, resp1)"
      ],
      "metadata": {
        "colab": {
          "base_uri": "https://localhost:8080/"
        },
        "id": "F74Yqjbcdn2z",
        "outputId": "d505b8b8-9302-47b3-bc39-d4ed552bf9aa"
      },
      "execution_count": 27,
      "outputs": [
        {
          "output_type": "stream",
          "name": "stdout",
          "text": [
            "Pergunta: Em que eventos os alunos podem entrar com meia entrada usando a carteira estudantil?\n",
            "\n",
            "Resposta esperada: 1o** É assegurado aos estudantes o acesso a salas de cinema, cineclubes, teatros, espetáculos\n",
            "musicais e circenses e eventos educativos, esportivos, de lazer e de entretenimento\n",
            "\n",
            "Resposta do modelo: Para os eventos de acordo com o artigo 5º desta lei, o beneficio da meia-entrada para acesso a eventos \n",
            "artísticos, culturais e esportivos por jovens de baixa renda, por estudantes e por pessoas com deficiência, \n",
            "é reguleado nas disposições deste decreto. Esses eventos incluem, entre outros, os veículos do sistema de \n",
            "transporte coletivo interestadual. Portanto, os alunos podem usar a carteira estudantil para entrar com meia \n",
            "entrada aos veículos relacionados a esses eventos.\n",
            "\n",
            "\n",
            "Contexto: [Document(metadata={'source': '/content/data/lesgilacao_dataset/Carteira Estudantil.pdf', 'page': 0}, page_content='# Assunto : Carteira Estudantil  \\n \\n**Art. 1º** É assegurado aos estudantes o acesso a salas de cinema, cineclubes, teatros, espetáculos \\nmusicais e circenses e eventos educativos, esportivos, de lazer e de entretenimento, em todo o território \\nnacional, promovidos por quaisquer entidades e re alizados em estabelecimentos públicos ou \\nparticulares, mediante pagamento da metade do preço do ingresso efetivamente cobrado do público em \\ngeral.  \\n \\n**§ 1º** O benefício previsto no caput não será cumulativo com quaisquer outras promoções e convênios \\ne, tam bém, não se aplica ao valor dos serviços adicionais eventualmente oferecidos em camarotes, \\náreas e cadeiras especiais.  \\n \\n**§ 2º** Terão direito ao benefício os estudantes regularmente matriculados nos níveis e modalidades de \\neducação e ensino previstos no T ítulo V da Lei nº 9.394, de 20 de dezembro de 1996, que comprovem \\nsua condição de discente, mediante a apresentação, no momento da aquisição do ingresso e na portaria'), Document(metadata={'source': '/content/data/lesgilacao_dataset/Carteira Estudantil.pdf', 'page': 0}, page_content='Estudantil (CIE).  \\n \\n**§ 6º** A Carteira de Identificação Estudantil (CIE) será válida da data de sua expedição até o dia 31 de \\nmarço do ano subsequente.  \\n \\n**§ 7º** (VETADO).  \\n \\n**§ 8º** Também farão jus  ao benefício da meia -entrada as pessoas com deficiência, inclusive seu \\nacompanhante quando necessário, sendo que este terá idêntico benefício no evento em que comprove \\nestar nesta condição, na forma do regulamento.  \\n \\n**§ 9º** Também farão jus ao benefício da meia -entrada os jovens de 15 a 29 anos de idade de baixa \\nrenda, inscritos no Cadastro Único para Programas Sociais do Governo Federal (CadÚnico) e cuja renda \\nfamiliar mensal seja de até 2 (dois) salários mínimos, na forma do regulamento.  \\n \\n**§ 10** A con cessão do direito ao benefício da meia -entrada é assegurada em 40% (quarenta por \\ncento) do total dos ingressos disponíveis para cada evento.  \\n \\n**§ 11** As normas desta Lei não se aplicam aos eventos Copa do Mundo FIFA de 2014 e Olimpíadas'), Document(metadata={'source': '/content/data/lesgilacao_dataset/Carteira Estudantil.pdf', 'page': 1}, page_content='bilheteira e da portaria, de que constem as condições estabelecidas para o gozo da meia -entrada, com \\nos telefone s dos órgãos de fiscalização.  \\n \\n**Art. 5º** Revoga -se a Medida Provisória nº 2.208, de 17 de agosto de 2001.  \\n \\n**Art. 6º** Esta Lei entra em vigor na data de sua publicação, gerando efeitos a partir da edição de sua \\nnorma regulamentadora.  \\n \\n**Art. 1º** Este D ecreto regulamenta o benefício da meia -entrada para acesso a eventos artístico -\\nculturais e esportivos por jovens de baixa renda, por estudantes e por pessoas com deficiência, e \\nestabelece os procedimentos e os critérios para a reserva de vagas a jovens de baixa renda nos veículos \\ndo sistema de transporte coletivo interestadual.  \\n \\n**Art. 2º** Para os efeitos deste Decreto, considera -se: \\n \\n- **jovem de baixa renda** - pessoa com idade entre quinze e vinte e nove anos que pertence a família \\ncom renda mensal de a té dois salários mínimos, inscrita no Cadastro Único para Programas Sociais do'), Document(metadata={'source': '/content/data/lesgilacao_dataset/Carteira Estudantil.pdf', 'page': 2}, page_content='fracionamento do preço de passagem; e  \\n- **bilhete de viagem do jovem** - documento, físico ou eletrônico, que comprove o contrato de \\ntransporte gratuito ou com desconto de cinquenta por cento ao jovem de baixa renda, fornecido pela \\nempresa prestadora do serviço de transporte, para possibilitar o ingresso do beneficiário no veículo, \\nobservado o disposto em Resolução da ANTT e da Antaq.  \\n \\n**Art. 3º** Os estudantes terão direito ao benefício da meia -entrada mediante a apresentação da CIE no \\nmomento da aquisição do ingresso e na portaria ou na entrada do local de realização do evento.  \\n \\n**§ 1º** A CIE será expedida por:  \\n \\nI - Associação Nacional de Pós -Graduandos - ANPG;  \\nII - União Nacional dos Estudantes - UNE;  \\nIII - União Brasileira dos Estudantes Secundaristas - Ubes;  \\nIV - entidades estaduais e municip ais filiadas às entidades previstas nos incisos I a III;  \\nV - Diretórios Centrais dos Estudantes - DCE; e')]\n"
          ]
        }
      ]
    },
    {
      "cell_type": "code",
      "source": [
        "testa(teste2, resp2)"
      ],
      "metadata": {
        "colab": {
          "base_uri": "https://localhost:8080/"
        },
        "id": "XVsWojjVd6wr",
        "outputId": "da3edf5a-7152-4544-d89c-6b3a70adb5b5"
      },
      "execution_count": 28,
      "outputs": [
        {
          "output_type": "stream",
          "name": "stdout",
          "text": [
            "Pergunta: Qual a definição do PET? também conhecida por Programa de Educação Tutorial\n",
            "\n",
            "Resposta esperada: **Art. 2o** O PET constitui-se em programa de educação tutorial desenvolvido em grupos organizados a\n",
            "partir de cursos de graduação das instituições de ensino superior do País, orientados pelo princípio da\n",
            "indissociabilidade entre ensino, pesquisa e extensão, com os seguintes objetivos:\n",
            "I — Desenvolver atividades acadêmicas em padrões de qualidade de excelência, mediante grupos de\n",
            "aprendizagem tutorial de natureza coletiva e interdisciplinar;\n",
            "II — Contribuir para a elevação da qualidade da formação acadêmica dos alunos de graduação;\n",
            "III — Estimular a formação de profissionais e docentes de elevada qualificação técnica, científica,\n",
            "tecnológica e acadêmica;\n",
            "IV — Formular novas estratégias de desenvolvimento e modernização do ensino superior no país;\n",
            "V — Estimular o espírito crítico, bem como a atuação profissional pautada pela cidadania e pela função\n",
            "social da educação superior.\n",
            "\n",
            "Resposta do modelo: \n",
            "O PET (Programa de Educação Tutorial) é uma iniciativa de reformulação do ensino universitário em Portugal que vem atravessando três décadas desde seu primeiro estabelecimento. De acordo com os planos curriculares do ensino médio e o Ministério da Educação, o PET foi criado pelas Atividades Estudiantiles Nacionais (AEN) em 1986, como programa especial destinado a melhorar a capacidade pedagógica dos alunos, aumentando a produtividade acadêmica e promovendo a formação de técnicos e profissionais. Para tal, oferece práticas e experiências comuns às disciplinas, também de outras unidades educativas públicas. \n",
            "\n",
            "É uma iniciativa de reformulação do ensino universitário em Portugal, e tem como objetivo atingir os objetivos do Plano Nacional Universitário de Formação dos Graduandos e da Agenda Profissional do Ensino Superior e Universitário. Devido à sua essência académica, o PET se compromete com os objetivos espontâneos, desse mundo acadêmico, do ensino superior português. Essa tese está atepada às Princípios Fundamentais do Ensino Superior, bem como à Política Nacional de Educação, Trabalho e Escolaridade. \n",
            "\n",
            "Este artigo contém informações de alto grau de matéria e o uso é proibido sem autorização expressa do editor e, explicitamente, sem o consentimento previsto pelo Artigo 7 do TFO (Texto Funcional Órgânico).\n",
            "\n",
            "\n",
            "Contexto: [Document(metadata={'source': '/content/data/lesgilacao_dataset/Programa de Educaç╞o Tutorial.pdf', 'page': 10}, page_content='**§ 2º** O edital do processo de seleção de alunos para composição dos grupos do PET deverá ser \\ndivulgado oficialmente, no âmbito do respectivo curso de graduação, com  antecedência mínima de oito dias \\nde sua realização, incluindo informações sobre data, local, horário, critérios e procedimentos de seleção.  \\n \\n**Art. 15** São atribuições do aluno bolsista:  \\nI — zelar pela qualidade acadêmica do PET;  \\nII — participar de todas  as atividades programadas pelo professor tutor;  \\nIII — participar durante a sua permanência no PET em atividades de ensino, pesquisa e extensão;  \\nIV — manter bom rendimento no curso de graduação;  \\nV — apresentar excelente rendimento acadêmico avaliado pelo tutor; e  \\nVI — publicar ou apresentar em evento de natureza científica um trabalho acadêmico por ano, \\nindividualmente ou em grupo;  \\nVII — fazer referência à sua condição de bolsista do PET nas publicaç ões e trabalhos apresentados; e'), Document(metadata={'source': '/content/data/lesgilacao_dataset/Programa de Educaç╞o Tutorial.pdf', 'page': 13}, page_content='**§ 1º** O grupo PET poderá ser extinto em decorrência dos resultados de sua avaliação.  \\n \\n**§ 2º** A extinção de um grupo PET não facultará à instituição de ensino superior a sua reposição, \\ncabendo ao Secretário de Educação Superior a decisão de criação de novo grupo e a realocação dos \\nrespectivos recursos financeiros.  \\n \\n**Art. 23** A avaliação dos professores tutores será realizada com base nos seguintes indicadores de \\nprodução acadêmica:  \\nI — cumprimento das atividades inerentes ao PET;  \\nII — contribuição par a a inovação e desenvolvimento do curso de graduação;'), Document(metadata={'source': '/content/data/lesgilacao_dataset/Programa de Educaç╞o Tutorial.pdf', 'page': 6}, page_content='estudantes e que envolvam ensino, pesquisa e extensão.  \\n \\n**§2º** Os grupos PET deverão contribuir para a implementação de políticas públi cas e de \\ndesenvolvimento em sua área de atuação, sendo que esta contribuição será considerada por ocasião das \\navaliações periódicas.  \\n \\n**§3º** O grupo PET iniciará suas atividades com quatro bolsistas, sendo este o número mínimo de \\nbolsistas para funcioname nto do grupo a qualquer momento.  \\n \\n**§4º** Cada nova expansão do grupo PET ocorrerá um ano após a anterior, observados o quantitativo de \\nquatro novos bolsistas a cada etapa e o limite máximo de doze bolsistas.  \\n \\n**§5º** A expansão do grupo PET será feita a partir de justificativa encaminhada pelo professor tutor ao \\nComitê Local de Acompanhamento e estará condicionada à avaliação positiva do grupo.'), Document(metadata={'source': '/content/data/lesgilacao_dataset/Programa de Educaç╞o Tutorial.pdf', 'page': 6}, page_content='**Art. 8º** A Comissão de Avaliação será composta pelo Diretor do Departamento de Modernização e \\nProgramas da Educação Superior, pelo Coordenador do PET na SESu e por oito membros, na qualidade \\nde consultores externos, nomeados pelo Secretário de Educação Superior, representando as seguintes \\náreas de conhecimento: Ciências Agrárias; Ciências Biológicas; Ciências da Saúde; Ciências E xatas e da \\nTerra; Ciências Humanas; Ciências Sociais Aplicadas; Engenharias; Letras e Artes.  \\n \\n**Art. 9º** O PET organizar -se-á academicamente a partir dos cursos de graduação, mediante a \\nconstituição de grupos de estudantes de graduação, sob a orientação d e um professor tutor.  \\n \\n**§1º** O grupo PET deverá realizar atividades que possibilitem uma formação acadêmica ampla aos \\nestudantes e que envolvam ensino, pesquisa e extensão.  \\n \\n**§2º** Os grupos PET deverão contribuir para a implementação de políticas públi cas e de')]\n"
          ]
        }
      ]
    },
    {
      "cell_type": "code",
      "source": [
        "testa(teste3, resp3)"
      ],
      "metadata": {
        "colab": {
          "base_uri": "https://localhost:8080/"
        },
        "id": "RL1CVNhDd8av",
        "outputId": "5a8f7eba-ecbc-48cd-d39b-c916a7e4dbb2"
      },
      "execution_count": 29,
      "outputs": [
        {
          "output_type": "stream",
          "name": "stdout",
          "text": [
            "Pergunta: Quais são modalidades que a universidade pode ministrar?\n",
            "\n",
            "Resposta esperada: I — sequenciais, por campo de saber, de diferentes níveis de abrangência, abertos a candidatos que\n",
            "atendam aos requisitos estabelecidos no Regimento Geral;\n",
            "II — de graduação, abertos a candidatos que tenham concluído o ensino médio ou equivalente e tenham\n",
            "sido classificados em processo seletivo;\n",
            "III — de pós-graduação, compreendendo programas de mestrado e doutorado, cursos de especialização,\n",
            "aperfeiçoamento e outros, abertos a candidatos diplomados em cursos de graduação e que atendam às\n",
            "exigências do Regimento Geral e normas complementares;\n",
            "IV — de extensão, abertos a candidatos que atendam aos requisitos estabelecidos pela Universidade.\n",
            "\n",
            "Resposta do modelo: - Diplomas de graduação e de Mestrado e Doctorado concedidos por universidades extranjeras\n",
            "para estudantes que atingam a condição necessária, em âmbito cumulativo comuns às duas áreas de \n",
            "conhecimento e em nível equivalente ou superior.\n",
            "- Permitem a revalidação de diplomas concedidos por universidades estrangeiras para estudantes que \n",
            "atuaram na área do tema ou foram alcançarem méritos docentes ou com especialização científica \n",
            "equivalentes, respectivamente, tornando-nos válidos em todas as licenciaturas, mestrados e \n",
            "doutorados da Faculdade.\n",
            "- Permitem a admissão dos estudantes regulares, para cursos que sejam afins à área escolhida pelo \n",
            "instituição, conforme expressamente previsto.\n",
            "- O Ministério de Educação e Desporto tem declarado os critérios e indicadores de qualidade para \n",
            "avaliar os cursos de graduate school.\n",
            "\n",
            "\n",
            "Contexto: [Document(metadata={'source': '/content/data/lesgilacao_dataset/Estatuto da Ufam.pdf', 'page': 9}, page_content='outras modalidades permitidas em lei, bem como o estudo de disciplinas isoladas, com  observância das \\nexigências constantes dos respectivos planos ou programas, a Universidade expedirá os \\ncorrespondentes certificados.  \\n \\n**Art. 64** Os diplomas de cursos superiores reconhecidos, expedidos pela Universidade, serão por ela \\nprópria registrados e terão validade nacional.  \\n \\n**§ 1º** Os diplomas de graduação expedidos por universidades estrangeiras poderão ser revalidados \\npela Universidade do Amazonas, desde que esta mantenha curso do mesmo nível e área ou equivalente, \\nrespeitando -se os acordos inte rnacionais de reciprocidade ou equiparação.  \\n \\n**§ 2º** Os diplomas de mestrado e de doutorado expedidos por universidades estrangeiras poderão ser \\nreconhecidos pela Universidade do Amazonas, desde que esta possua cursos de pós -graduação \\nreconhecidos e avali ados, na mesma área de conhecimento e em nível equivalente ou superior.'), Document(metadata={'source': '/content/data/lesgilacao_dataset/Estatuto da Ufam.pdf', 'page': 1}, page_content='incorporados à Universidade na forma da Lei nº 4.069 -A, de 12 de junho de 1962, acrescidos de outras \\nunidades posteriormente criadas, estruturad as segundo as normas do Decreto -lei nº 252, de 28 de \\nfevereiro de 1967.  \\n \\n**§ 2º** A criação de novas unidades será de competência do Conselho Universitário, observadas as \\nnormas contidas neste Estatuto e na legislação vigente.  \\n \\n**Art. 7º** Para que seja instalada qualquer faculdade ou instituto, exigir -se-á, pelo menos, a existência \\nde 03 (três) departamentos.  \\n \\n**§ 1º** Na criação de departamentos, serão atendidos os seguintes requisitos:  \\nI — agrupamento de disciplinas afins, abrangendo área significativa de conhecimentos;  \\nII — disponibilidade de instalações e de equipamentos;  \\nIII — número de professores não inferior a 08 (oito) e, no conjunto, em proporção adequada ao \\ndesenvolvimento do ensin o, da pesquisa e da extensão na respectiva área.'), Document(metadata={'source': '/content/data/lesgilacao_dataset/Educaç╞o a Distância.pdf', 'page': 14}, page_content='**§ 2º** Os diplomas de graduação expedidos por universidades estrangeiras serão revalidados por \\nuniversidades públicas que tenham curso do mesmo nível e área ou equivalente, respeitando -se os \\nacordos internacionais de reciprocidade ou equiparação.  \\n \\n**§ 3º** Os diplomas de Mestrado e de Doutorado expedidos por universidades estrangeiras só poderão \\nser reconhecidos por universidades qu e possuam cursos de pós -graduação reconhecidos e avaliados, \\nna mesma área de conhecimento e em nível equivalente ou superior.  \\n \\n**Art. 49.** As instituições de educação superior aceitarão a transferência de alunos regulares, para \\ncursos afins, na hipótese de existência de vagas, e mediante processo seletivo.  \\n \\n**Parágrafo único.** As transferências ex officio dar -se-ão na forma da l ei. \\n \\n**Art. 50.** As instituições de educação superior, quando da ocorrência de vagas, abrirão matrícula nas \\ndisciplinas de seus cursos a alunos não regulares que demonstrarem capacidade de cursá -las com'), Document(metadata={'source': '/content/data/lesgilacao_dataset/Educaç╞o a Distância.pdf', 'page': 0}, page_content='de ensino que ofereçam cursos de educação profissional a distância deverão observar, além do que \\nestabelece este Decreto, o que dispõem as normas contidas em legislação específica.  \\n \\n**§4º** O credenciamento  das instituições e a autorização dos cursos serão limitados a cinco anos, \\npodendo ser renovados após a avaliação.  \\n \\n**§5º** A avaliação de que trata o parágrafo anterior, obedecerá a procedimentos, critérios e indicadores \\nde qualidade definidos em ato próp rio, a ser expedido pelo Ministro de Estado da Educação e do \\nDesporto.  \\n \\n**§6º** A falta de atendimento aos padrões de qualidade e a ocorrência de irregularidades de qualquer \\nordem serão objeto de diligências, sindicância, e, se for o caso, de processo admi nistrativo que vise a \\napurá -las, suspendendo -se, de imediato, a tramitação de pleitos de interesse da instituição, podendo \\nainda acarretar -lhe o descredenciamento.')]\n"
          ]
        }
      ]
    },
    {
      "cell_type": "code",
      "source": [
        "testa(teste4, resp4)"
      ],
      "metadata": {
        "colab": {
          "base_uri": "https://localhost:8080/"
        },
        "id": "q1CphPzGd83v",
        "outputId": "4a54d29b-70df-4013-c493-b2f6f02ea17d"
      },
      "execution_count": 30,
      "outputs": [
        {
          "output_type": "stream",
          "name": "stdout",
          "text": [
            "Pergunta: Com relação a educação a distância, os cursos a distância podem aceitar transferência de cursos presenciais?\n",
            "\n",
            "Resposta esperada: **Art. 4o** Os cursos a distância poderão aceitar transferência e aproveitar créditos obtidos pelos alunos\n",
            "em cursos presenciais, da mesma forma que as certificações totais ou parciais obtidas em cursos a\n",
            "distância poderão ser aceitas em cursos presenciais.\n",
            "\n",
            "Resposta do modelo: Os cursos a distância podem aceitar transferência de cursos presenciais quando for o caso, mas há requisitos especiais para isso. Deve-se monitorar a transferência de cursos presenciais para verificar se eles estiverem satisfatíssimos nas expectativas escolares.\n",
            "\n",
            "\n",
            "Contexto: [Document(metadata={'source': '/content/data/lesgilacao_dataset/Educaç╞o a Distância.pdf', 'page': 0}, page_content='em cursos presenciais, da mesma forma que as certificações totais ou parciais obtidas em cursos a \\ndistância poderão ser aceitas em cursos presenciais.  \\n \\n**Art. 5º** Os certificados e diplomas de cursos a distância a utorizados pelos sistemas de ensino, \\nexpedidos por instituições credenciadas e registrados na forma da lei, terão validade nacional.'), Document(metadata={'source': '/content/data/lesgilacao_dataset/Educaç╞o a Distância.pdf', 'page': 0}, page_content='# Assunto : Educação à Distância  \\n \\n**Art. 1º** Educação a distância é uma forma de ensino que possibilita a autoaprendizagem, com a \\nmediação de recursos didáticos sistematicamente organizados, apresentados em diferentes suportes de \\ninformação, utilizados isoladamente ou combinados, e veicul ados por diversos meios de comunicação.  \\n \\n**Parágrafo Único** Os cursos ministrados sob a forma de educação a distância serão organizados em \\nregime especial, com flexibilidade de requisitos para admissão, horários e duração, sem prejuízo, \\nquando for o caso,  dos objetivos e das diretrizes curriculares fixadas nacionalmente.  \\n \\n**Art. 2º** Os cursos a distância que conferem certificado ou diploma de conclusão do ensino \\nfundamental para jovens e adultos, do ensino médio, da educação profissional, e de graduação s erão \\noferecidos por instituições públicas ou privadas especificamente credenciadas para esse fim, nos termos'), Document(metadata={'source': '/content/data/lesgilacao_dataset/Afinidade de Cursos.pdf', 'page': 0}, page_content='II — Havendo instituição pública em Manaus que possua o mesmo curso de graduação do \\nrequerente, a solicitação receberá parecer denegatório do DLN, seguindo para consideração \\ndo(a) Pró -Reitor(a) de Ensino de Graduação. Após, o aluno, tomando ciência da decisão, será \\norientado a buscar matrícula na instituição que oferece seu curso.  \\nIII — Atend idos os requisitos da transferência ex officio, o processo será encaminhado ao \\nDepartamento de Apoio ao Ensino (DAE) para emitir informação técnica sobre a afinidade do \\ncurso de origem com cursos da mesma área, conforme o art. 1º desta Resolução.  \\nIV — Após  concluído o processo de afinidade, o aluno será encaminhado à Coordenação do \\nCurso no qual deverá ser matriculado, a fim de que receba orientações acerca do seu \\najustamento acadêmico ao curso no qual ingressará.  \\nV — Em nenhuma hipótese será permitido ao r equerente fazer opção por outro curso que não \\naquele considerado afim com o curso de origem.'), Document(metadata={'source': '/content/data/lesgilacao_dataset/Educaç╞o a Distância.pdf', 'page': 0}, page_content='de ensino que ofereçam cursos de educação profissional a distância deverão observar, além do que \\nestabelece este Decreto, o que dispõem as normas contidas em legislação específica.  \\n \\n**§4º** O credenciamento  das instituições e a autorização dos cursos serão limitados a cinco anos, \\npodendo ser renovados após a avaliação.  \\n \\n**§5º** A avaliação de que trata o parágrafo anterior, obedecerá a procedimentos, critérios e indicadores \\nde qualidade definidos em ato próp rio, a ser expedido pelo Ministro de Estado da Educação e do \\nDesporto.  \\n \\n**§6º** A falta de atendimento aos padrões de qualidade e a ocorrência de irregularidades de qualquer \\nordem serão objeto de diligências, sindicância, e, se for o caso, de processo admi nistrativo que vise a \\napurá -las, suspendendo -se, de imediato, a tramitação de pleitos de interesse da instituição, podendo \\nainda acarretar -lhe o descredenciamento.')]\n"
          ]
        }
      ]
    },
    {
      "cell_type": "code",
      "source": [
        "testa(teste5, resp5)"
      ],
      "metadata": {
        "colab": {
          "base_uri": "https://localhost:8080/"
        },
        "id": "3ZsBaDiHeEs5",
        "outputId": "903e74a7-6869-4052-e741-862459666652"
      },
      "execution_count": 31,
      "outputs": [
        {
          "output_type": "stream",
          "name": "stdout",
          "text": [
            "Pergunta: Quantos cursos no máximo um aluno pode cursar mas férias?\n",
            "\n",
            "Resposta esperada: **Art. 4o** O aluno poderá cursar, no máximo, 2 (duas) disciplinas em período especial, de\n",
            "forma consecutiva, respeitados os pré-requisitos.\n",
            "I — Ao cursar 2 (duas) disciplinas, estas não deverão ter mais que 80% da carga horária\n",
            "cursada concomitantemente e não poderá haver dependência de pré-requisitos entre elas.\n",
            "II — Não será permitida a matrícula do aluno durante ou após a realização da disciplina em\n",
            "período especial, conforme resolução n° 026/2007-CONSKPE.\n",
            "\n",
            "Resposta do modelo: - Nunca\n",
            "\n",
            "\n",
            "\n",
            "Contexto: [Document(metadata={'source': '/content/data/lesgilacao_dataset/Matrícula.pdf', 'page': 4}, page_content='cursos em todos os períodos de solicitação de matrícula.  \\n \\n**§ 2º** Para todos os critérios de seleção, o desempate se efetuará por meio do \\ncoeficiente de rendim ento.  \\n \\n**Art. 11** A matrícula em disciplina(s)/turma(s) será realizada estritamente dentro dos \\nlimites mínimo e máximo de créditos fixados por período, para cada curso no Projeto \\nPedagógico do Curso.  \\n \\n**Parágrafo Único** Ao aluno finalista do período será  permitido ultrapassar o limite \\nmáximo de créditos se necessitar cursar mais de uma disciplina, até um total de 4 \\n(quatro) créditos ou uma só disciplina independentemente do número de créditos.'), Document(metadata={'source': '/content/data/lesgilacao_dataset/Tempo Máximo nos cursos.pdf', 'page': 0}, page_content='# Assunto : Tempo máximo nos Cursos  \\n \\n**Art. 1º** Padronizar os mecanismos de mensuração dos tempos máximos de duração \\ndos cursos de graduação da Universidade Federal do Amazonas.  \\n \\n**Art. 2º** Estabelecer que os tempos máximos de integralização dos cursos de \\ngraduação da Universidade Federal do Amazonas sejam redimensionados conforme \\norientações contidas nesta Resolução.  \\n \\n**Art. 3º** A integralização do tempo máximo de duração dos cu rsos de graduação \\nconsistirá na integralização do tempo mínimo de duração dos cursos, previsto no Projeto \\nPolítico Pedagógico, adicionada de 50% (cinquenta por cento) desse mesmo tempo.  \\n \\n**Parágrafo Único** Casos em que os 50% se deem antes do término do p eríodo letivo \\nfica garantido o tempo máximo para integralizar o curso até o final do período letivo \\ncorrente.  \\n \\n**Art. 4º** Os tempos mínimos e as cargas horárias dos cursos de graduação não serão'), Document(metadata={'source': '/content/data/lesgilacao_dataset/Diretrizes Curriculares Nacionais.pdf', 'page': 13}, page_content='**§7º** No prazo máximo de 5 (cinco) anos, o Ministério da Educação, em articulação com os sistemas \\nde ensino e com os fóruns estaduais permanentes de apoio à formação docente, procederá à avaliação do \\ndesenvolvimento dos cursos de for mação pedagógica para graduados, definindo prazo para sua extinção \\nem cada estado da federação.  \\n \\n**Art. 15.** Os cursos de segunda licenciatura terão carga horária mínima variável de 800 (oitocentas) a \\n1.200 (mil e duzentas) horas, dependendo da equivalênc ia entre a formação original e a nova licenciatura.  \\n \\n**§1º** A definição da carga horária deve respeitar os seguintes princípios:  \\nI — Quando o curso de segunda licenciatura pertencer à mesma área do curso de origem, a carga horária \\ndeverá ter, no mínimo, 8 00 (oitocentas) horas;  \\nII — Quando o curso de segunda licenciatura pertencer a uma área diferente da do curso de origem, a \\ncarga horária deverá ter, no mínimo, 1.200 (mil e duzentas) horas;'), Document(metadata={'source': '/content/data/lesgilacao_dataset/Duraç╞o e carga horária.pdf', 'page': 13}, page_content='**§7º** No prazo máximo de 5 (cinco) anos, o Ministério da Educação, em articulação com os sistemas \\nde ensino e com os fóruns estaduais permanentes de apoio à formação docente, procederá à avaliação do \\ndesenvolvimento dos cursos de for mação pedagógica para graduados, definindo prazo para sua extinção \\nem cada estado da federação.  \\n \\n**Art. 15.** Os cursos de segunda licenciatura terão carga horária mínima variável de 800 (oitocentas) a \\n1.200 (mil e duzentas) horas, dependendo da equivalênc ia entre a formação original e a nova licenciatura.  \\n \\n**§1º** A definição da carga horária deve respeitar os seguintes princípios:  \\nI — Quando o curso de segunda licenciatura pertencer à mesma área do curso de origem, a carga horária \\ndeverá ter, no mínimo, 8 00 (oitocentas) horas;  \\nII — Quando o curso de segunda licenciatura pertencer a uma área diferente da do curso de origem, a \\ncarga horária deverá ter, no mínimo, 1.200 (mil e duzentas) horas;')]\n"
          ]
        }
      ]
    }
  ]
}